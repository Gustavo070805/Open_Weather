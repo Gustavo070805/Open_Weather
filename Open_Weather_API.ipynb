{
  "nbformat": 4,
  "nbformat_minor": 0,
  "metadata": {
    "colab": {
      "provenance": []
    },
    "kernelspec": {
      "name": "python3",
      "display_name": "Python 3"
    },
    "language_info": {
      "name": "python"
    }
  },
  "cells": [
    {
      "cell_type": "markdown",
      "source": [
        "# Consumindo a API do OPEN WEATHER\n",
        "\n",
        "OpenWeatherMap é um serviço online, de propriedade da OpenWeather Ltd, que fornece dados meteorológicos globais via API, incluindo dados meteorológicos atuais, previsões, previsões e dados meteorológicos históricos para qualquer localização geográfica\n",
        "\n",
        "https://openweathermap.org/\n",
        "\n",
        "\n"
      ],
      "metadata": {
        "id": "QLmc9l-wk9tK"
      }
    },
    {
      "cell_type": "markdown",
      "source": [
        "## Exercício\n",
        "\n",
        "Consuma a API OPEN WEATHER de uma cidade que comece com a mesma letra do seu nome, normalize a saida para que seja amigavel para o usuário, e converta as unidades para os padrões que usamos no Brasil.\n",
        "\n",
        "Para isso consulte a documentação do openweather, doc da biblioteca \"requests\" do python e materiais onlines\n",
        "\n",
        "Após terminar o exercicio, disponibilize um link do **github** em um repositorio da sua escolha para a correção\n",
        "\n",
        "*Arquivo > Salvar uma cópia no Github*\n",
        "\n",
        "Insira seu nome e RM abaixo"
      ],
      "metadata": {
        "id": "qPrM1XR3lcsx"
      }
    },
    {
      "cell_type": "code",
      "source": [
        "nome = input('Insira seu nome: ')\n",
        "rm = input('Insira seu rm: ')"
      ],
      "metadata": {
        "id": "vv5aH-8pmZLx",
        "colab": {
          "base_uri": "https://localhost:8080/"
        },
        "outputId": "3e2f1e3a-66ec-421f-de07-af4985eb94d1"
      },
      "execution_count": 21,
      "outputs": [
        {
          "name": "stdout",
          "output_type": "stream",
          "text": [
            "Insira seu nome: gustavo\n",
            "Insira seu rm: 98852\n"
          ]
        }
      ]
    },
    {
      "cell_type": "markdown",
      "source": [
        "# Utilize a **Current weather data** para acessar o clima local da cidade\n",
        "\n",
        "Exemplo de endpoint utilizado na doc da api\n",
        "\n",
        "https://api.openweathermap.org/data/2.5/weather?lat={lat}&lon={lon}&appid={API_key}"
      ],
      "metadata": {
        "id": "2LcLA-zQnpmJ"
      }
    },
    {
      "cell_type": "code",
      "source": [
        "#Lembre-se de importar a biblioteca\n",
        "import requests"
      ],
      "metadata": {
        "id": "gDeBIuvpwSWo"
      },
      "execution_count": 22,
      "outputs": []
    },
    {
      "cell_type": "code",
      "execution_count": 23,
      "metadata": {
        "id": "oT2RcDkNkpDi",
        "colab": {
          "base_uri": "https://localhost:8080/"
        },
        "outputId": "2da81032-c4be-4818-ce27-246d4e7c3a4d"
      },
      "outputs": [
        {
          "output_type": "execute_result",
          "data": {
            "text/plain": [
              "{'coord': {'lon': -49.2539, 'lat': -16.6786},\n",
              " 'weather': [{'id': 800,\n",
              "   'main': 'Clear',\n",
              "   'description': 'clear sky',\n",
              "   'icon': '01d'}],\n",
              " 'base': 'stations',\n",
              " 'main': {'temp': 299.98,\n",
              "  'feels_like': 301.65,\n",
              "  'temp_min': 299.98,\n",
              "  'temp_max': 299.98,\n",
              "  'pressure': 1020,\n",
              "  'humidity': 69},\n",
              " 'visibility': 10000,\n",
              " 'wind': {'speed': 2.57, 'deg': 120},\n",
              " 'clouds': {'all': 0},\n",
              " 'dt': 1679665477,\n",
              " 'sys': {'type': 1,\n",
              "  'id': 8372,\n",
              "  'country': 'BR',\n",
              "  'sunrise': 1679649688,\n",
              "  'sunset': 1679693109},\n",
              " 'timezone': -10800,\n",
              " 'id': 3462377,\n",
              " 'name': 'Goiânia',\n",
              " 'cod': 200}"
            ]
          },
          "metadata": {},
          "execution_count": 23
        }
      ],
      "source": [
        "API_KEY = \"412cd4eb9b5f11df30e9bd7b14a66fe4\"\n",
        "cidade = \"goiania\"\n",
        "endpoint = f\"https://api.openweathermap.org/data/2.5/weather?q={cidade}&appid={API_key}\"\n",
        "\n",
        "\n",
        "requisicao = requests.get(endpoint)\n",
        "resposta = requisicao.json()\n",
        "resposta"
      ]
    },
    {
      "cell_type": "markdown",
      "source": [
        "A saida da sua API deve conter 2 informações essenciais:\n",
        "\n",
        "\n",
        "\n",
        "1.   Descrição ( description )\n",
        "2.   Temperatura em Celsius ( temp )\n",
        "\n",
        "Insira abaixo a saida normalizada:\n"
      ],
      "metadata": {
        "id": "01EQXOH_oekh"
      }
    },
    {
      "cell_type": "code",
      "source": [
        "desc = resposta['weather'][0]['description']\n",
        "temp = resposta['main']['temp']\n",
        "\n",
        "print(desc, temp)\n"
      ],
      "metadata": {
        "colab": {
          "base_uri": "https://localhost:8080/"
        },
        "id": "gD0e0T8YtyEB",
        "outputId": "f1f11f92-e055-468a-a314-6936fa2b7d00"
      },
      "execution_count": 25,
      "outputs": [
        {
          "output_type": "stream",
          "name": "stdout",
          "text": [
            "clear sky 299.98\n"
          ]
        }
      ]
    },
    {
      "cell_type": "code",
      "source": [
        "kelvin = 273.15\n",
        "temp_c = {temp - kelvin}\n",
        "temp_c\n",
        "\n",
        "print(f\"Converção de kelvin para celsius {temp_c}\")"
      ],
      "metadata": {
        "colab": {
          "base_uri": "https://localhost:8080/"
        },
        "id": "5aIfArEAufCo",
        "outputId": "115f3a64-fab5-4290-f52b-791f3d71503e"
      },
      "execution_count": 37,
      "outputs": [
        {
          "output_type": "stream",
          "name": "stdout",
          "text": [
            "Converção de kelvin para celsius {26.83000000000004}\n"
          ]
        }
      ]
    }
  ]
}