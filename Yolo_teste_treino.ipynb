{
  "nbformat": 4,
  "nbformat_minor": 0,
  "metadata": {
    "colab": {
      "provenance": [],
      "authorship_tag": "ABX9TyNSZqSC+3R2nEY9bvxSwS3q",
      "include_colab_link": true
    },
    "kernelspec": {
      "name": "python3",
      "display_name": "Python 3"
    },
    "language_info": {
      "name": "python"
    }
  },
  "cells": [
    {
      "cell_type": "markdown",
      "metadata": {
        "id": "view-in-github",
        "colab_type": "text"
      },
      "source": [
        "<a href=\"https://colab.research.google.com/github/Gustavo070805/Open_Weather/blob/main/Yolo_teste_treino.ipynb\" target=\"_parent\"><img src=\"https://colab.research.google.com/assets/colab-badge.svg\" alt=\"Open In Colab\"/></a>"
      ]
    },
    {
      "cell_type": "markdown",
      "source": [
        "ETAPA 1 CLONANDO O REPOSITORIO DA FERRAMENTA"
      ],
      "metadata": {
        "id": "ie5wo2yPoYFi"
      }
    },
    {
      "cell_type": "code",
      "execution_count": null,
      "metadata": {
        "colab": {
          "base_uri": "https://localhost:8080/"
        },
        "id": "svj7tKmioUD4",
        "outputId": "d0c28f6c-5ade-4fdf-b59c-c913914f5870"
      },
      "outputs": [
        {
          "output_type": "stream",
          "name": "stdout",
          "text": [
            "Cloning into 'OIDv4_ToolKit'...\n",
            "remote: Enumerating objects: 422, done.\u001b[K\n",
            "remote: Total 422 (delta 0), reused 0 (delta 0), pack-reused 422\u001b[K\n",
            "Receiving objects: 100% (422/422), 34.08 MiB | 35.68 MiB/s, done.\n",
            "Resolving deltas: 100% (146/146), done.\n"
          ]
        }
      ],
      "source": [
        "!git clone https://github.com/EscVM/OIDv4_ToolKit.git"
      ]
    },
    {
      "cell_type": "markdown",
      "source": [
        "ETAPA 2 ACESSANDO O DIRETORIO DA FERRAMENTA"
      ],
      "metadata": {
        "id": "JDD6VJ-rofHo"
      }
    },
    {
      "cell_type": "code",
      "source": [
        "cd OIDv4_ToolKit/"
      ],
      "metadata": {
        "colab": {
          "base_uri": "https://localhost:8080/"
        },
        "id": "N1j_6aX8oi70",
        "outputId": "ae04674e-57a7-4f8f-e420-9594d235e04a"
      },
      "execution_count": null,
      "outputs": [
        {
          "output_type": "stream",
          "name": "stdout",
          "text": [
            "/content/OIDv4_ToolKit\n"
          ]
        }
      ]
    },
    {
      "cell_type": "markdown",
      "source": [
        "ETAPA 3 INSTALANDO TODAS AS BIBLIOTECAS NECESSARIAS"
      ],
      "metadata": {
        "id": "NtGQhmo2okoN"
      }
    },
    {
      "cell_type": "code",
      "source": [
        "!pip3 install -r requirements.txt"
      ],
      "metadata": {
        "colab": {
          "base_uri": "https://localhost:8080/"
        },
        "id": "OC3vHxAwooHu",
        "outputId": "a07b1c4a-653e-4cfb-ae64-17ba6e3051d1"
      },
      "execution_count": null,
      "outputs": [
        {
          "output_type": "stream",
          "name": "stdout",
          "text": [
            "Looking in indexes: https://pypi.org/simple, https://us-python.pkg.dev/colab-wheels/public/simple/\n",
            "Requirement already satisfied: pandas in /usr/local/lib/python3.10/dist-packages (from -r requirements.txt (line 1)) (1.5.3)\n",
            "Requirement already satisfied: numpy in /usr/local/lib/python3.10/dist-packages (from -r requirements.txt (line 2)) (1.22.4)\n",
            "Collecting awscli (from -r requirements.txt (line 3))\n",
            "  Downloading awscli-1.27.148-py3-none-any.whl (4.1 MB)\n",
            "\u001b[2K     \u001b[90m━━━━━━━━━━━━━━━━━━━━━━━━━━━━━━━━━━━━━━━━\u001b[0m \u001b[32m4.1/4.1 MB\u001b[0m \u001b[31m98.1 MB/s\u001b[0m eta \u001b[36m0:00:00\u001b[0m\n",
            "\u001b[?25hRequirement already satisfied: urllib3 in /usr/local/lib/python3.10/dist-packages (from -r requirements.txt (line 5)) (1.26.15)\n",
            "Requirement already satisfied: tqdm in /usr/local/lib/python3.10/dist-packages (from -r requirements.txt (line 7)) (4.65.0)\n",
            "Requirement already satisfied: opencv-python in /usr/local/lib/python3.10/dist-packages (from -r requirements.txt (line 9)) (4.7.0.72)\n",
            "Requirement already satisfied: python-dateutil>=2.8.1 in /usr/local/lib/python3.10/dist-packages (from pandas->-r requirements.txt (line 1)) (2.8.2)\n",
            "Requirement already satisfied: pytz>=2020.1 in /usr/local/lib/python3.10/dist-packages (from pandas->-r requirements.txt (line 1)) (2022.7.1)\n",
            "Collecting botocore==1.29.148 (from awscli->-r requirements.txt (line 3))\n",
            "  Downloading botocore-1.29.148-py3-none-any.whl (10.8 MB)\n",
            "\u001b[2K     \u001b[90m━━━━━━━━━━━━━━━━━━━━━━━━━━━━━━━━━━━━━━━\u001b[0m \u001b[32m10.8/10.8 MB\u001b[0m \u001b[31m129.3 MB/s\u001b[0m eta \u001b[36m0:00:00\u001b[0m\n",
            "\u001b[?25hRequirement already satisfied: docutils<0.17,>=0.10 in /usr/local/lib/python3.10/dist-packages (from awscli->-r requirements.txt (line 3)) (0.16)\n",
            "Collecting s3transfer<0.7.0,>=0.6.0 (from awscli->-r requirements.txt (line 3))\n",
            "  Downloading s3transfer-0.6.1-py3-none-any.whl (79 kB)\n",
            "\u001b[2K     \u001b[90m━━━━━━━━━━━━━━━━━━━━━━━━━━━━━━━━━━━━━━━━\u001b[0m \u001b[32m79.8/79.8 kB\u001b[0m \u001b[31m10.9 MB/s\u001b[0m eta \u001b[36m0:00:00\u001b[0m\n",
            "\u001b[?25hCollecting PyYAML<5.5,>=3.10 (from awscli->-r requirements.txt (line 3))\n",
            "  Downloading PyYAML-5.4.1.tar.gz (175 kB)\n",
            "\u001b[2K     \u001b[90m━━━━━━━━━━━━━━━━━━━━━━━━━━━━━━━━━━━━━━\u001b[0m \u001b[32m175.1/175.1 kB\u001b[0m \u001b[31m24.1 MB/s\u001b[0m eta \u001b[36m0:00:00\u001b[0m\n",
            "\u001b[?25h  Installing build dependencies ... \u001b[?25l\u001b[?25hdone\n",
            "  Getting requirements to build wheel ... \u001b[?25l\u001b[?25hdone\n",
            "  Preparing metadata (pyproject.toml) ... \u001b[?25l\u001b[?25hdone\n",
            "Collecting colorama<0.4.5,>=0.2.5 (from awscli->-r requirements.txt (line 3))\n",
            "  Downloading colorama-0.4.4-py2.py3-none-any.whl (16 kB)\n",
            "Collecting rsa<4.8,>=3.1.2 (from awscli->-r requirements.txt (line 3))\n",
            "  Downloading rsa-4.7.2-py3-none-any.whl (34 kB)\n",
            "Collecting jmespath<2.0.0,>=0.7.1 (from botocore==1.29.148->awscli->-r requirements.txt (line 3))\n",
            "  Downloading jmespath-1.0.1-py3-none-any.whl (20 kB)\n",
            "Requirement already satisfied: six>=1.5 in /usr/local/lib/python3.10/dist-packages (from python-dateutil>=2.8.1->pandas->-r requirements.txt (line 1)) (1.16.0)\n",
            "Requirement already satisfied: pyasn1>=0.1.3 in /usr/local/lib/python3.10/dist-packages (from rsa<4.8,>=3.1.2->awscli->-r requirements.txt (line 3)) (0.5.0)\n",
            "Building wheels for collected packages: PyYAML\n",
            "  Building wheel for PyYAML (pyproject.toml) ... \u001b[?25l\u001b[?25hdone\n",
            "  Created wheel for PyYAML: filename=PyYAML-5.4.1-cp310-cp310-linux_x86_64.whl size=45658 sha256=3b3cbcb7db84b835e0bb9c5fd104920edae7b9985b5de788549ba2feb9fcd2e7\n",
            "  Stored in directory: /root/.cache/pip/wheels/c7/0d/22/696ee92245ad710f506eee79bb05c740d8abccd3ecdb778683\n",
            "Successfully built PyYAML\n",
            "Installing collected packages: rsa, PyYAML, jmespath, colorama, botocore, s3transfer, awscli\n",
            "  Attempting uninstall: rsa\n",
            "    Found existing installation: rsa 4.9\n",
            "    Uninstalling rsa-4.9:\n",
            "      Successfully uninstalled rsa-4.9\n",
            "  Attempting uninstall: PyYAML\n",
            "    Found existing installation: PyYAML 6.0\n",
            "    Uninstalling PyYAML-6.0:\n",
            "      Successfully uninstalled PyYAML-6.0\n",
            "Successfully installed PyYAML-5.4.1 awscli-1.27.148 botocore-1.29.148 colorama-0.4.4 jmespath-1.0.1 rsa-4.7.2 s3transfer-0.6.1\n"
          ]
        }
      ]
    },
    {
      "cell_type": "markdown",
      "source": [
        "ETAPA 4 FAZENDO O DOWNLOAD DAS IMAGENS"
      ],
      "metadata": {
        "id": "rBxjRpc0ovYc"
      }
    },
    {
      "cell_type": "code",
      "source": [
        "!python main.py downloader --classes Tomato Egg Banana Coffee Popcorn Pasta --type_csv train --limit 30 --multiclasses 1"
      ],
      "metadata": {
        "colab": {
          "base_uri": "https://localhost:8080/"
        },
        "id": "ytg4r1YMoyoq",
        "outputId": "cfb6e622-a94c-4b51-fec1-a0dfda91d167"
      },
      "execution_count": null,
      "outputs": [
        {
          "output_type": "stream",
          "name": "stdout",
          "text": [
            "\u001b[92m\n",
            "\t\t   ___   _____  ______            _    _    \n",
            "\t\t .'   `.|_   _||_   _ `.         | |  | |   \n",
            "\t\t/  .-.  \\ | |    | | `. \\ _   __ | |__| |_  \n",
            "\t\t| |   | | | |    | |  | |[ \\ [  ]|____   _| \n",
            "\t\t\\  `-'  /_| |_  _| |_.' / \\ \\/ /     _| |_  \n",
            "\t\t `.___.'|_____||______.'   \\__/     |_____|\n",
            "\t\u001b[0m\n",
            "\u001b[92m\n",
            "             _____                    _                 _             \n",
            "            (____ \\                  | |               | |            \n",
            "             _   \\ \\ ___  _ _ _ ____ | | ___   ____  _ | | ____  ____ \n",
            "            | |   | / _ \\| | | |  _ \\| |/ _ \\ / _  |/ || |/ _  )/ ___)\n",
            "            | |__/ / |_| | | | | | | | | |_| ( ( | ( (_| ( (/ /| |    \n",
            "            |_____/ \\___/ \\____|_| |_|_|\\___/ \\_||_|\\____|\\____)_|    \n",
            "                                                          \n",
            "        \u001b[0m\n",
            "    [INFO] | Downloading ['Tomato', 'Egg', 'Banana', 'Coffee', 'Popcorn', 'Pasta'] together.\u001b[0m\n",
            "\u001b[91m   [ERROR] | Missing the class-descriptions-boxable.csv file.\u001b[0m\n",
            "\u001b[94m[DOWNLOAD] | Do you want to download the missing file? [Y/n] \u001b[0mY\n",
            "...145%, 0 MB, 50380 KB/s, 0 seconds passed\n",
            "\u001b[94m[DOWNLOAD] | File class-descriptions-boxable.csv downloaded into OID/csv_folder/class-descriptions-boxable.csv.\u001b[0m\n",
            "\u001b[91m   [ERROR] | Missing the train-annotations-bbox.csv file.\u001b[0m\n",
            "\u001b[94m[DOWNLOAD] | Do you want to download the missing file? [Y/n] \u001b[0mY\n",
            "...100%, 1138 MB, 35396 KB/s, 32 seconds passed\n",
            "\u001b[94m[DOWNLOAD] | File train-annotations-bbox.csv downloaded into OID/csv_folder/train-annotations-bbox.csv.\u001b[0m\n",
            "\n",
            "\u001b[95mTomato\u001b[0m\n",
            "    [INFO] | Downloading train images.\u001b[0m\n",
            "    [INFO] | [INFO] Found 1283 online images for train.\u001b[0m\n",
            "    [INFO] | Limiting to 30 images.\u001b[0m\n",
            "    [INFO] | Download of 30 images in train.\u001b[0m\n",
            "100% 30/30 [00:14<00:00,  2.03it/s]\n",
            "    [INFO] | Done!\u001b[0m\n",
            "    [INFO] | Creating labels for Tomato of train.\u001b[0m\n",
            "    [INFO] | Labels creation completed.\u001b[0m\n",
            "\n",
            "\u001b[95mEgg\u001b[0m\n",
            "    [INFO] | Downloading train images.\u001b[0m\n",
            "    [INFO] | [INFO] Found 934 online images for train.\u001b[0m\n",
            "    [INFO] | Limiting to 30 images.\u001b[0m\n",
            "    [INFO] | Download of 30 images in train.\u001b[0m\n",
            "100% 30/30 [00:14<00:00,  2.05it/s]\n",
            "    [INFO] | Done!\u001b[0m\n",
            "    [INFO] | Creating labels for Egg of train.\u001b[0m\n",
            "    [INFO] | Labels creation completed.\u001b[0m\n",
            "\n",
            "\u001b[95mBanana\u001b[0m\n",
            "    [INFO] | Downloading train images.\u001b[0m\n",
            "    [INFO] | [INFO] Found 723 online images for train.\u001b[0m\n",
            "    [INFO] | Limiting to 30 images.\u001b[0m\n",
            "    [INFO] | Download of 30 images in train.\u001b[0m\n",
            "100% 30/30 [00:13<00:00,  2.18it/s]\n",
            "    [INFO] | Done!\u001b[0m\n",
            "    [INFO] | Creating labels for Banana of train.\u001b[0m\n",
            "    [INFO] | Labels creation completed.\u001b[0m\n",
            "\n",
            "\u001b[95mCoffee\u001b[0m\n",
            "    [INFO] | Downloading train images.\u001b[0m\n",
            "    [INFO] | [INFO] Found 1858 online images for train.\u001b[0m\n",
            "    [INFO] | Limiting to 30 images.\u001b[0m\n",
            "    [INFO] | Download of 29 images in train.\u001b[0m\n",
            "100% 29/29 [00:12<00:00,  2.29it/s]\n",
            "    [INFO] | Done!\u001b[0m\n",
            "    [INFO] | Creating labels for Coffee of train.\u001b[0m\n",
            "    [INFO] | Labels creation completed.\u001b[0m\n",
            "\n",
            "\u001b[95mPopcorn\u001b[0m\n",
            "    [INFO] | Downloading train images.\u001b[0m\n",
            "    [INFO] | [INFO] Found 194 online images for train.\u001b[0m\n",
            "    [INFO] | Limiting to 30 images.\u001b[0m\n",
            "    [INFO] | Download of 30 images in train.\u001b[0m\n",
            "100% 30/30 [00:12<00:00,  2.33it/s]\n",
            "    [INFO] | Done!\u001b[0m\n",
            "    [INFO] | Creating labels for Popcorn of train.\u001b[0m\n",
            "    [INFO] | Labels creation completed.\u001b[0m\n",
            "\n",
            "\u001b[95mPasta\u001b[0m\n",
            "    [INFO] | Downloading train images.\u001b[0m\n",
            "    [INFO] | [INFO] Found 734 online images for train.\u001b[0m\n",
            "    [INFO] | Limiting to 30 images.\u001b[0m\n",
            "    [INFO] | Download of 30 images in train.\u001b[0m\n",
            "100% 30/30 [00:12<00:00,  2.31it/s]\n",
            "    [INFO] | Done!\u001b[0m\n",
            "    [INFO] | Creating labels for Pasta of train.\u001b[0m\n",
            "    [INFO] | Labels creation completed.\u001b[0m\n"
          ]
        }
      ]
    },
    {
      "cell_type": "code",
      "source": [
        "!python main.py downloader --classes Tomato Egg Banana Coffee Popcorn Pasta --type_csv test --limit 10 --multiclasses 1"
      ],
      "metadata": {
        "colab": {
          "base_uri": "https://localhost:8080/"
        },
        "id": "a2rqm4VJqCA0",
        "outputId": "bb4621fc-b6d0-461e-9e87-65112b7fc111"
      },
      "execution_count": null,
      "outputs": [
        {
          "output_type": "stream",
          "name": "stdout",
          "text": [
            "\u001b[92m\n",
            "\t\t   ___   _____  ______            _    _    \n",
            "\t\t .'   `.|_   _||_   _ `.         | |  | |   \n",
            "\t\t/  .-.  \\ | |    | | `. \\ _   __ | |__| |_  \n",
            "\t\t| |   | | | |    | |  | |[ \\ [  ]|____   _| \n",
            "\t\t\\  `-'  /_| |_  _| |_.' / \\ \\/ /     _| |_  \n",
            "\t\t `.___.'|_____||______.'   \\__/     |_____|\n",
            "\t\u001b[0m\n",
            "\u001b[92m\n",
            "             _____                    _                 _             \n",
            "            (____ \\                  | |               | |            \n",
            "             _   \\ \\ ___  _ _ _ ____ | | ___   ____  _ | | ____  ____ \n",
            "            | |   | / _ \\| | | |  _ \\| |/ _ \\ / _  |/ || |/ _  )/ ___)\n",
            "            | |__/ / |_| | | | | | | | | |_| ( ( | ( (_| ( (/ /| |    \n",
            "            |_____/ \\___/ \\____|_| |_|_|\\___/ \\_||_|\\____|\\____)_|    \n",
            "                                                          \n",
            "        \u001b[0m\n",
            "    [INFO] | Downloading ['Tomato', 'Egg', 'Banana', 'Coffee', 'Popcorn', 'Pasta'] together.\u001b[0m\n",
            "\u001b[91m   [ERROR] | Missing the test-annotations-bbox.csv file.\u001b[0m\n",
            "\u001b[94m[DOWNLOAD] | Do you want to download the missing file? [Y/n] \u001b[0mY\n",
            "...100%, 49 MB, 37797 KB/s, 1 seconds passed\n",
            "\u001b[94m[DOWNLOAD] | File test-annotations-bbox.csv downloaded into OID/csv_folder/test-annotations-bbox.csv.\u001b[0m\n",
            "\n",
            "\u001b[95mTomato\u001b[0m\n",
            "    [INFO] | Downloading test images.\u001b[0m\n",
            "    [INFO] | [INFO] Found 227 online images for test.\u001b[0m\n",
            "    [INFO] | Limiting to 10 images.\u001b[0m\n",
            "    [INFO] | Download of 10 images in test.\u001b[0m\n",
            "100% 10/10 [00:04<00:00,  2.07it/s]\n",
            "    [INFO] | Done!\u001b[0m\n",
            "    [INFO] | Creating labels for Tomato of test.\u001b[0m\n",
            "    [INFO] | Labels creation completed.\u001b[0m\n",
            "\n",
            "\u001b[95mEgg\u001b[0m\n",
            "    [INFO] | Downloading test images.\u001b[0m\n",
            "    [INFO] | [INFO] Found 200 online images for test.\u001b[0m\n",
            "    [INFO] | Limiting to 10 images.\u001b[0m\n",
            "    [INFO] | Download of 10 images in test.\u001b[0m\n",
            "100% 10/10 [00:03<00:00,  2.64it/s]\n",
            "    [INFO] | Done!\u001b[0m\n",
            "    [INFO] | Creating labels for Egg of test.\u001b[0m\n",
            "    [INFO] | Labels creation completed.\u001b[0m\n",
            "\n",
            "\u001b[95mBanana\u001b[0m\n",
            "    [INFO] | Downloading test images.\u001b[0m\n",
            "    [INFO] | [INFO] Found 68 online images for test.\u001b[0m\n",
            "    [INFO] | Limiting to 10 images.\u001b[0m\n",
            "    [INFO] | Download of 10 images in test.\u001b[0m\n",
            "100% 10/10 [00:04<00:00,  2.09it/s]\n",
            "    [INFO] | Done!\u001b[0m\n",
            "    [INFO] | Creating labels for Banana of test.\u001b[0m\n",
            "    [INFO] | Labels creation completed.\u001b[0m\n",
            "\n",
            "\u001b[95mCoffee\u001b[0m\n",
            "    [INFO] | Downloading test images.\u001b[0m\n",
            "    [INFO] | [INFO] Found 305 online images for test.\u001b[0m\n",
            "    [INFO] | Limiting to 10 images.\u001b[0m\n",
            "    [INFO] | Download of 10 images in test.\u001b[0m\n",
            "100% 10/10 [00:03<00:00,  2.70it/s]\n",
            "    [INFO] | Done!\u001b[0m\n",
            "    [INFO] | Creating labels for Coffee of test.\u001b[0m\n",
            "    [INFO] | Labels creation completed.\u001b[0m\n",
            "\n",
            "\u001b[95mPopcorn\u001b[0m\n",
            "    [INFO] | Downloading test images.\u001b[0m\n",
            "    [INFO] | [INFO] Found 52 online images for test.\u001b[0m\n",
            "    [INFO] | Limiting to 10 images.\u001b[0m\n",
            "    [INFO] | Download of 10 images in test.\u001b[0m\n",
            "100% 10/10 [00:03<00:00,  2.66it/s]\n",
            "    [INFO] | Done!\u001b[0m\n",
            "    [INFO] | Creating labels for Popcorn of test.\u001b[0m\n",
            "    [INFO] | Labels creation completed.\u001b[0m\n",
            "\n",
            "\u001b[95mPasta\u001b[0m\n",
            "    [INFO] | Downloading test images.\u001b[0m\n",
            "    [INFO] | [INFO] Found 316 online images for test.\u001b[0m\n",
            "    [INFO] | Limiting to 10 images.\u001b[0m\n",
            "    [INFO] | Download of 10 images in test.\u001b[0m\n",
            "100% 10/10 [00:05<00:00,  1.94it/s]\n",
            "    [INFO] | Done!\u001b[0m\n",
            "    [INFO] | Creating labels for Pasta of test.\u001b[0m\n",
            "    [INFO] | Labels creation completed.\u001b[0m\n"
          ]
        }
      ]
    },
    {
      "cell_type": "markdown",
      "source": [
        "ETAPA 5 CONVERTENDO OS ARQUIVOS DE ANOTAÇÃO"
      ],
      "metadata": {
        "id": "3Td3D2xMqaYQ"
      }
    },
    {
      "cell_type": "code",
      "source": [
        "!cat classes.txt"
      ],
      "metadata": {
        "colab": {
          "base_uri": "https://localhost:8080/"
        },
        "id": "3dptRrMSqffe",
        "outputId": "5b53c262-53d1-4c77-a33b-5bcfd8ef90cf"
      },
      "execution_count": null,
      "outputs": [
        {
          "output_type": "stream",
          "name": "stdout",
          "text": [
            "Apple\n",
            "Orange\n",
            "Light switch\n"
          ]
        }
      ]
    },
    {
      "cell_type": "code",
      "source": [
        "!echo -e 'Tomato\\nEgg\\nBanana\\nCoffee\\nPopcorn\\nPasta' > classes.txt"
      ],
      "metadata": {
        "id": "wvCIMGFVqil6"
      },
      "execution_count": null,
      "outputs": []
    },
    {
      "cell_type": "code",
      "source": [
        "!cat classes.txt"
      ],
      "metadata": {
        "colab": {
          "base_uri": "https://localhost:8080/"
        },
        "id": "CvGoPKE4qyUr",
        "outputId": "8888eadd-04e0-458e-aea1-a18230265657"
      },
      "execution_count": null,
      "outputs": [
        {
          "output_type": "stream",
          "name": "stdout",
          "text": [
            "Tomato\n",
            "Egg\n",
            "Banana\n",
            "Coffee\n",
            "Popcorn\n",
            "Pasta\n"
          ]
        }
      ]
    },
    {
      "cell_type": "markdown",
      "source": [
        "5.2 Clonando o repositorio da ferramenta"
      ],
      "metadata": {
        "id": "QaQujDjLq-fU"
      }
    },
    {
      "cell_type": "code",
      "source": [
        "!git clone -n https://github.com/Hemilibeatriz/TreinamentoCustomizadoYOLO.git"
      ],
      "metadata": {
        "colab": {
          "base_uri": "https://localhost:8080/"
        },
        "id": "0f63uESdrD9V",
        "outputId": "877e3282-7649-4406-f717-5a1d51b6a308"
      },
      "execution_count": null,
      "outputs": [
        {
          "output_type": "stream",
          "name": "stdout",
          "text": [
            "Cloning into 'TreinamentoCustomizadoYOLO'...\n",
            "remote: Enumerating objects: 25, done.\u001b[K\n",
            "remote: Counting objects: 100% (25/25), done.\u001b[K\n",
            "remote: Compressing objects: 100% (23/23), done.\u001b[K\n",
            "remote: Total 25 (delta 8), reused 0 (delta 0), pack-reused 0\u001b[K\n",
            "Unpacking objects: 100% (25/25), 1.12 MiB | 7.78 MiB/s, done.\n"
          ]
        }
      ]
    },
    {
      "cell_type": "code",
      "source": [
        "cd TreinamentoCustomizadoYOLO/"
      ],
      "metadata": {
        "colab": {
          "base_uri": "https://localhost:8080/"
        },
        "id": "c2QGd6SnrOx0",
        "outputId": "9fd9c150-a7ec-480b-a5fb-4aa6b2d7517a"
      },
      "execution_count": null,
      "outputs": [
        {
          "output_type": "stream",
          "name": "stdout",
          "text": [
            "/content/OIDv4_ToolKit/TreinamentoCustomizadoYOLO\n"
          ]
        }
      ]
    },
    {
      "cell_type": "code",
      "source": [
        "ls"
      ],
      "metadata": {
        "id": "H_-0TXfArjZg"
      },
      "execution_count": null,
      "outputs": []
    },
    {
      "cell_type": "code",
      "source": [
        "!git checkout HEAD converter_anotacoes.py"
      ],
      "metadata": {
        "colab": {
          "base_uri": "https://localhost:8080/"
        },
        "id": "y7vY4jvMrSgP",
        "outputId": "ced24404-b362-4212-8fe8-80e0013f2330"
      },
      "execution_count": null,
      "outputs": [
        {
          "output_type": "stream",
          "name": "stdout",
          "text": [
            "Updated 1 path from fa846fa\n"
          ]
        }
      ]
    },
    {
      "cell_type": "code",
      "source": [
        "!mv converter_anotacoes.py /content/OIDv4_ToolKit/"
      ],
      "metadata": {
        "id": "cNzqnW2UrYN5"
      },
      "execution_count": null,
      "outputs": []
    },
    {
      "cell_type": "code",
      "source": [
        "ls"
      ],
      "metadata": {
        "id": "h7IQxQ2ssBii"
      },
      "execution_count": null,
      "outputs": []
    },
    {
      "cell_type": "code",
      "source": [
        "cd .."
      ],
      "metadata": {
        "colab": {
          "base_uri": "https://localhost:8080/"
        },
        "id": "_51jm_BdsF1s",
        "outputId": "9486bff7-0c8e-42da-c186-99c30b1a541f"
      },
      "execution_count": null,
      "outputs": [
        {
          "output_type": "stream",
          "name": "stdout",
          "text": [
            "/content/OIDv4_ToolKit\n"
          ]
        }
      ]
    },
    {
      "cell_type": "markdown",
      "source": [
        "5.3 Executar o arquivo de conversão"
      ],
      "metadata": {
        "id": "a6nFGpQ2sIOS"
      }
    },
    {
      "cell_type": "code",
      "source": [
        "!python converter_anotacoes.py"
      ],
      "metadata": {
        "colab": {
          "base_uri": "https://localhost:8080/"
        },
        "id": "wN2XOJYCsM34",
        "outputId": "c90615cc-9783-4a1e-a30f-6f12b9676b93"
      },
      "execution_count": null,
      "outputs": [
        {
          "output_type": "stream",
          "name": "stdout",
          "text": [
            "Subdiretorio atual: test\n",
            "Convertendo os annotations para a classe:  Tomato_Egg_Banana_Coffee_Popcorn_Pasta\n",
            "100% 60/60 [00:01<00:00, 40.61it/s]\n",
            "Subdiretorio atual: train\n",
            "Convertendo os annotations para a classe:  Tomato_Egg_Banana_Coffee_Popcorn_Pasta\n",
            "100% 179/179 [00:03<00:00, 50.62it/s]\n"
          ]
        }
      ]
    },
    {
      "cell_type": "markdown",
      "source": [
        "5.4 Compactar o Dataset"
      ],
      "metadata": {
        "id": "wmH36ojju7LJ"
      }
    },
    {
      "cell_type": "code",
      "source": [
        "cd OID/Dataset/train/"
      ],
      "metadata": {
        "colab": {
          "base_uri": "https://localhost:8080/"
        },
        "id": "PCkXLDG9vBGZ",
        "outputId": "d2fd54b0-4535-472c-8367-91645fa8930f"
      },
      "execution_count": null,
      "outputs": [
        {
          "output_type": "stream",
          "name": "stdout",
          "text": [
            "/content/OIDv4_ToolKit/OID/Dataset/train\n"
          ]
        }
      ]
    },
    {
      "cell_type": "code",
      "source": [
        "!zip -r ../../../obj.zip obj -x obj/Label/*"
      ],
      "metadata": {
        "colab": {
          "base_uri": "https://localhost:8080/"
        },
        "id": "BF2NgvpZv0up",
        "outputId": "f71fea93-a177-4f9f-ed38-9814ae960bc5"
      },
      "execution_count": null,
      "outputs": [
        {
          "output_type": "stream",
          "name": "stdout",
          "text": [
            "  adding: obj/ (stored 0%)\n",
            "  adding: obj/027a8e11daab08af.txt (deflated 29%)\n",
            "  adding: obj/359dfbdc170f138e.txt (deflated 29%)\n",
            "  adding: obj/58bae3a4ebe01e17.txt (deflated 36%)\n",
            "  adding: obj/790ca07066ab8a5e.jpg (deflated 0%)\n",
            "  adding: obj/2ad33d489cc200b4.jpg (deflated 0%)\n",
            "  adding: obj/31fd4db3162fcb93.jpg (deflated 1%)\n",
            "  adding: obj/7c2bfb44dab3e3ae.txt (deflated 51%)\n",
            "  adding: obj/234dab3d6f621973.jpg (deflated 0%)\n",
            "  adding: obj/09042d5c3f3f68bb.txt (deflated 21%)\n",
            "  adding: obj/948d33c6efc8d7bc.txt (deflated 30%)\n",
            "  adding: obj/672b45a1c3df05e0.jpg (deflated 0%)\n",
            "  adding: obj/0acd3b5e892d9813.txt (deflated 20%)\n",
            "  adding: obj/befce6d624720594.jpg (deflated 0%)\n",
            "  adding: obj/009e483fe67bcf00.txt (deflated 40%)\n",
            "  adding: obj/839e451ee1268010.jpg (deflated 0%)\n",
            "  adding: obj/b6e2df67d10bf268.txt (deflated 27%)\n",
            "  adding: obj/0d7df5d0de19af0f.txt (deflated 42%)\n",
            "  adding: obj/11d7c873e1fd25c1.jpg (deflated 0%)\n",
            "  adding: obj/aa658c2771d51022.txt (deflated 41%)\n",
            "  adding: obj/09042d5c3f3f68bb.jpg (deflated 0%)\n",
            "  adding: obj/36c0d037427d4a08.txt (deflated 59%)\n",
            "  adding: obj/3d2e0a5a75b17e88.jpg (deflated 0%)\n",
            "  adding: obj/dae61671378cff05.txt (deflated 42%)\n",
            "  adding: obj/87f6a9afb7a996ee.jpg (deflated 0%)\n",
            "  adding: obj/9ab779b7c33fc132.jpg (deflated 0%)\n",
            "  adding: obj/bd3e0bb5a95e18a6.txt (deflated 39%)\n",
            "  adding: obj/befce6d624720594.txt (deflated 31%)\n",
            "  adding: obj/ecce58fc5695163c.txt (deflated 29%)\n",
            "  adding: obj/def574b5725ea236.txt (deflated 12%)\n",
            "  adding: obj/a4d44dd552d20e22.txt (deflated 18%)\n",
            "  adding: obj/231212f50571bce2.jpg (deflated 0%)\n",
            "  adding: obj/88619184aadceabc.txt (deflated 38%)\n",
            "  adding: obj/7c2bfb44dab3e3ae.jpg (deflated 10%)\n",
            "  adding: obj/306131d822cd13e7.txt (deflated 37%)\n",
            "  adding: obj/46e4b3a9dea4d1e3.jpg (deflated 0%)\n",
            "  adding: obj/7728bee57ec3a608.txt (deflated 33%)\n",
            "  adding: obj/46e4b3a9dea4d1e3.txt (deflated 20%)\n",
            "  adding: obj/3435552b655a8b60.txt (deflated 26%)\n",
            "  adding: obj/04ba92ddbf968f2e.txt (deflated 22%)\n",
            "  adding: obj/0ab27bd821b80c53.txt (deflated 31%)\n",
            "  adding: obj/770cc9b6f64a83ee.jpg (deflated 0%)\n",
            "  adding: obj/1a2c70c460708225.jpg (deflated 0%)\n",
            "  adding: obj/3a80bb59d330fec3.txt (deflated 33%)\n",
            "  adding: obj/1334b5f9d8c4af6c.txt (deflated 36%)\n",
            "  adding: obj/a25336a4b9c09b09.jpg (deflated 0%)\n",
            "  adding: obj/68cb6caa7ffa9e68.txt (deflated 43%)\n",
            "  adding: obj/0389ac59135b37d4.jpg (deflated 0%)\n",
            "  adding: obj/228ec07f266e0914.txt (deflated 44%)\n",
            "  adding: obj/3de428164dcbf2e1.jpg (deflated 0%)\n",
            "  adding: obj/a90a89befd7389b3.txt (deflated 15%)\n",
            "  adding: obj/8cee0e5d984c7358.jpg (deflated 0%)\n",
            "  adding: obj/ff7218aa2ae29922.txt (deflated 21%)\n",
            "  adding: obj/82ac7d0f6f79c845.txt (deflated 43%)\n",
            "  adding: obj/acdea94fb4958c96.jpg (deflated 0%)\n",
            "  adding: obj/8ec259faf2f61e13.jpg (deflated 0%)\n",
            "  adding: obj/58017038fe30eaea.txt (deflated 31%)\n",
            "  adding: obj/6bf64266fa36f07c.txt (deflated 20%)\n",
            "  adding: obj/ec37f0b73f7d120f.jpg (deflated 0%)\n",
            "  adding: obj/2fb8872d87850f1a.txt (deflated 58%)\n",
            "  adding: obj/507fc77a3ca70fbe.jpg (deflated 0%)\n",
            "  adding: obj/946ce64947f8825e.txt (deflated 29%)\n",
            "  adding: obj/8c4ba3c1aa9d712e.jpg (deflated 0%)\n",
            "  adding: obj/8192ddb5fa37d6b2.jpg (deflated 0%)\n",
            "  adding: obj/11d0f2b6c8abfe54.jpg (deflated 0%)\n",
            "  adding: obj/cb2ae42a606179c8.txt (deflated 38%)\n",
            "  adding: obj/01cbeaab10e471f7.txt (deflated 12%)\n",
            "  adding: obj/07aa014aef1ebb4d.jpg (deflated 0%)\n",
            "  adding: obj/2fb8872d87850f1a.jpg (deflated 0%)\n",
            "  adding: obj/172af3a23eb89e5e.txt (deflated 17%)\n",
            "  adding: obj/05b7e45f65e2b47c.jpg (deflated 0%)\n",
            "  adding: obj/2ca2efac4e0b1c29.txt (deflated 56%)\n",
            "  adding: obj/1334b5f9d8c4af6c.jpg (deflated 0%)\n",
            "  adding: obj/8e421cc48ffa2037.jpg (deflated 0%)\n",
            "  adding: obj/01038888ba2452b9.jpg (deflated 1%)\n",
            "  adding: obj/aa2461e2106dfd45.txt (deflated 24%)\n",
            "  adding: obj/1c0be717dcb0ae75.jpg (deflated 0%)\n",
            "  adding: obj/a7164c98fb6e7d92.txt (deflated 25%)\n",
            "  adding: obj/027a8e11daab08af.jpg (deflated 0%)\n",
            "  adding: obj/01f8f36db23636a3.txt (deflated 17%)\n",
            "  adding: obj/58017038fe30eaea.jpg (deflated 0%)\n",
            "  adding: obj/056a9e6143374acb.txt (deflated 19%)\n",
            "  adding: obj/771a3a0e62667097.txt (deflated 26%)\n",
            "  adding: obj/027ec7df13f98138.jpg (deflated 0%)\n",
            "  adding: obj/f9c7ea49d2294f21.jpg (deflated 0%)\n",
            "  adding: obj/3a80bb59d330fec3.jpg (deflated 0%)\n",
            "  adding: obj/c1ccc19b8839b3da.txt (deflated 27%)\n",
            "  adding: obj/7310d05b4d3eabde.jpg (deflated 0%)\n",
            "  adding: obj/d53bb5142fbb7386.jpg (deflated 0%)\n",
            "  adding: obj/c3c2d4836e6fa3f6.txt (deflated 26%)\n",
            "  adding: obj/01038888ba2452b9.txt (deflated 50%)\n",
            "  adding: obj/2f2112e171a01d43.txt (deflated 21%)\n",
            "  adding: obj/1c0be717dcb0ae75.txt (deflated 22%)\n",
            "  adding: obj/685a15fd9cce7692.txt (deflated 48%)\n",
            "  adding: obj/82ac7d0f6f79c845.jpg (deflated 1%)\n",
            "  adding: obj/1d55fe8ff8b8d116.txt (deflated 20%)\n",
            "  adding: obj/672b45a1c3df05e0.txt (deflated 30%)\n",
            "  adding: obj/00579bcd56d81317.jpg (deflated 0%)\n",
            "  adding: obj/71ab834ee54cd9e5.jpg (deflated 0%)\n",
            "  adding: obj/6d91ba0db3def8c3.jpg (deflated 0%)\n",
            "  adding: obj/8cdd7b3f6eefe549.jpg (deflated 0%)\n",
            "  adding: obj/c04c116b4f0781e0.jpg (deflated 0%)\n",
            "  adding: obj/e303127e8ed65134.jpg (deflated 0%)\n",
            "  adding: obj/01cbeaab10e471f7.jpg (deflated 0%)\n",
            "  adding: obj/228ec07f266e0914.jpg (deflated 4%)\n",
            "  adding: obj/359dfbdc170f138e.jpg (deflated 0%)\n",
            "  adding: obj/2f0b24ac85790d3e.jpg (deflated 0%)\n",
            "  adding: obj/16a152e1602976cb.jpg (deflated 1%)\n",
            "  adding: obj/15e7160da65c76dd.jpg (deflated 0%)\n",
            "  adding: obj/25da9b8320dcee95.jpg (deflated 0%)\n",
            "  adding: obj/1dea87c12f8b6eca.txt (deflated 52%)\n",
            "  adding: obj/87f6a9afb7a996ee.txt (deflated 53%)\n",
            "  adding: obj/00579bcd56d81317.txt (deflated 52%)\n",
            "  adding: obj/566f903b8ccb0074.jpg (deflated 0%)\n",
            "  adding: obj/93a6b8d80cac53c9.jpg (deflated 0%)\n",
            "  adding: obj/b174108a87ccc549.txt (deflated 64%)\n",
            "  adding: obj/11d0f2b6c8abfe54.txt (deflated 53%)\n",
            "  adding: obj/36c0d037427d4a08.jpg (deflated 0%)\n",
            "  adding: obj/ec37f0b73f7d120f.txt (deflated 41%)\n",
            "  adding: obj/e435cfadd7ef6b80.txt (deflated 12%)\n",
            "  adding: obj/eccec93d96324e27.txt (deflated 52%)\n",
            "  adding: obj/a972e902a9944200.txt (deflated 37%)\n",
            "  adding: obj/566f5d7885b23733.txt (deflated 9%)\n",
            "  adding: obj/0d7df5d0de19af0f.jpg (deflated 0%)\n",
            "  adding: obj/69f3806648ee0c21.txt (deflated 43%)\n",
            "  adding: obj/61f5b3b74dc26f8a.txt (deflated 12%)\n",
            "  adding: obj/74ead821469aee91.txt (deflated 41%)\n",
            "  adding: obj/5771484210ed0466.txt (deflated 33%)\n",
            "  adding: obj/d359cc7acdb29ca3.jpg (deflated 0%)\n",
            "  adding: obj/371f6ff733f91f07.txt (deflated 56%)\n",
            "  adding: obj/2ad33d489cc200b4.txt (deflated 41%)\n",
            "  adding: obj/0145c909cbcc792d.txt (deflated 45%)\n",
            "  adding: obj/055412e574ac686f.jpg (deflated 0%)\n",
            "  adding: obj/eeaa97781d9988ba.txt (deflated 43%)\n",
            "  adding: obj/3de428164dcbf2e1.txt (deflated 25%)\n",
            "  adding: obj/def574b5725ea236.jpg (deflated 0%)\n",
            "  adding: obj/4747ed5adab70aa5.jpg (deflated 1%)\n",
            "  adding: obj/16a152e1602976cb.txt (deflated 12%)\n",
            "  adding: obj/901c4712f8484f7f.jpg (deflated 0%)\n",
            "  adding: obj/33fe59100251b9c0.txt (deflated 43%)\n",
            "  adding: obj/790ca07066ab8a5e.txt (deflated 39%)\n",
            "  adding: obj/d359cc7acdb29ca3.txt (deflated 29%)\n",
            "  adding: obj/566f5d7885b23733.jpg (deflated 0%)\n",
            "  adding: obj/68cb6caa7ffa9e68.jpg (deflated 0%)\n",
            "  adding: obj/842e0bf29c2d2b69.jpg (deflated 0%)\n",
            "  adding: obj/c63aafc490c892d9.txt (deflated 12%)\n",
            "  adding: obj/07a756e47f5067ae.txt (deflated 36%)\n",
            "  adding: obj/8e421cc48ffa2037.txt (deflated 27%)\n",
            "  adding: obj/def5440666d0f952.jpg (deflated 0%)\n",
            "  adding: obj/566f903b8ccb0074.txt (deflated 67%)\n",
            "  adding: obj/6895c78bddfc8025.jpg (deflated 0%)\n",
            "  adding: obj/15704b447b2e5556.txt (deflated 24%)\n",
            "  adding: obj/306131d822cd13e7.jpg (deflated 0%)\n",
            "  adding: obj/eccec93d96324e27.jpg (deflated 0%)\n",
            "  adding: obj/685a15fd9cce7692.jpg (deflated 0%)\n",
            "  adding: obj/1dea87c12f8b6eca.jpg (deflated 0%)\n",
            "  adding: obj/06f206cdede75980.txt (deflated 27%)\n",
            "  adding: obj/74ead821469aee91.jpg (deflated 0%)\n",
            "  adding: obj/1f1a2f423db73947.txt (deflated 32%)\n",
            "  adding: obj/a008f7851b815836.jpg (deflated 0%)\n",
            "  adding: obj/d589c39f384f657c.txt (deflated 13%)\n",
            "  adding: obj/9eea6c9c370a1f87.txt (deflated 31%)\n",
            "  adding: obj/02c11c157e70d6b1.txt (deflated 11%)\n",
            "  adding: obj/2da2afd42fb4d3f3.jpg (deflated 0%)\n",
            "  adding: obj/31fd4db3162fcb93.txt (deflated 40%)\n",
            "  adding: obj/320d7a2f74c9cf91.txt (deflated 36%)\n",
            "  adding: obj/bd8c8415656c815e.txt (deflated 67%)\n",
            "  adding: obj/03eaad3d1db3f984.jpg (deflated 0%)\n",
            "  adding: obj/839e451ee1268010.txt (deflated 47%)\n",
            "  adding: obj/ecce58fc5695163c.jpg (deflated 0%)\n",
            "  adding: obj/055412e574ac686f.txt (deflated 23%)\n",
            "  adding: obj/0389ac59135b37d4.txt (deflated 11%)\n",
            "  adding: obj/849e9f74878672a6.txt (deflated 14%)\n",
            "  adding: obj/7765c35638dfc410.txt (deflated 13%)\n",
            "  adding: obj/e435cfadd7ef6b80.jpg (deflated 0%)\n",
            "  adding: obj/e2f93d65186762d7.txt (deflated 49%)\n",
            "  adding: obj/9ab779b7c33fc132.txt (deflated 44%)\n",
            "  adding: obj/d53bb5142fbb7386.txt (deflated 43%)\n",
            "  adding: obj/02c11c157e70d6b1.jpg (deflated 0%)\n",
            "  adding: obj/9f95a1e2904572b4.jpg (deflated 0%)\n",
            "  adding: obj/a5942cf4bae9599e.txt (deflated 17%)\n",
            "  adding: obj/4dabf59d90a88f26.jpg (deflated 0%)\n",
            "  adding: obj/a3f95c505ca05dbe.txt (deflated 11%)\n",
            "  adding: obj/d9a7fd1021db470f.jpg (deflated 0%)\n",
            "  adding: obj/0d163cbe889f2e1a.txt (deflated 35%)\n",
            "  adding: obj/11e572b8ffed243a.jpg (deflated 0%)\n",
            "  adding: obj/Label/ (stored 0%)\n",
            "  adding: obj/570dce6602a649a4.txt (deflated 40%)\n",
            "  adding: obj/b59bd491687cefea.jpg (deflated 0%)\n",
            "  adding: obj/371f6ff733f91f07.jpg (deflated 0%)\n",
            "  adding: obj/aa658c2771d51022.jpg (deflated 0%)\n",
            "  adding: obj/1d55fe8ff8b8d116.jpg (deflated 0%)\n",
            "  adding: obj/2f2112e171a01d43.jpg (deflated 0%)\n",
            "  adding: obj/7bfe266f25c17d84.txt (deflated 23%)\n",
            "  adding: obj/05b7e45f65e2b47c.txt (deflated 58%)\n",
            "  adding: obj/15e7160da65c76dd.txt (deflated 31%)\n",
            "  adding: obj/e2f93d65186762d7.jpg (deflated 0%)\n",
            "  adding: obj/ff7218aa2ae29922.jpg (deflated 0%)\n",
            "  adding: obj/231212f50571bce2.txt (deflated 37%)\n",
            "  adding: obj/a90a89befd7389b3.jpg (deflated 0%)\n",
            "  adding: obj/172af3a23eb89e5e.jpg (deflated 4%)\n",
            "  adding: obj/a4d44dd552d20e22.jpg (deflated 0%)\n",
            "  adding: obj/7728bee57ec3a608.jpg (deflated 0%)\n",
            "  adding: obj/4747ed5adab70aa5.txt (deflated 25%)\n",
            "  adding: obj/d9a7fd1021db470f.txt (deflated 16%)\n",
            "  adding: obj/e5532fbf051fb05d.txt (deflated 58%)\n",
            "  adding: obj/6f5097a27b456faf.jpg (deflated 0%)\n",
            "  adding: obj/7ede03857983b548.jpg (deflated 0%)\n",
            "  adding: obj/234dab3d6f621973.txt (deflated 32%)\n",
            "  adding: obj/9eea6c9c370a1f87.jpg (deflated 0%)\n",
            "  adding: obj/2ca2efac4e0b1c29.jpg (deflated 0%)\n",
            "  adding: obj/c1ccc19b8839b3da.jpg (deflated 0%)\n",
            "  adding: obj/771a3a0e62667097.jpg (deflated 0%)\n",
            "  adding: obj/cce38885dc2240c8.jpg (deflated 0%)\n",
            "  adding: obj/2f0b24ac85790d3e.txt (deflated 22%)\n",
            "  adding: obj/04d2aa753f410709.txt (deflated 17%)\n",
            "  adding: obj/a4f5b04cba5f21db.jpg (deflated 1%)\n",
            "  adding: obj/8192ddb5fa37d6b2.txt (deflated 20%)\n",
            "  adding: obj/002caea797956b9e.jpg (deflated 0%)\n",
            "  adding: obj/03268b0ece04184d.jpg (deflated 0%)\n",
            "  adding: obj/6bf64266fa36f07c.jpg (deflated 0%)\n",
            "  adding: obj/c3c2d4836e6fa3f6.jpg (deflated 0%)\n",
            "  adding: obj/10d1550e523baeac.jpg (deflated 0%)\n",
            "  adding: obj/a3f95c505ca05dbe.jpg (deflated 0%)\n",
            "  adding: obj/212e9af10c3c5c29.jpg (deflated 0%)\n",
            "  adding: obj/dae61671378cff05.jpg (deflated 0%)\n",
            "  adding: obj/915947b6394b6759.jpg (deflated 0%)\n",
            "  adding: obj/aab3269aad08a29e.txt (deflated 49%)\n",
            "  adding: obj/7bfe266f25c17d84.jpg (deflated 0%)\n",
            "  adding: obj/34d6feeafdcae6ca.txt (deflated 36%)\n",
            "  adding: obj/07aa014aef1ebb4d.txt (deflated 39%)\n",
            "  adding: obj/71ab834ee54cd9e5.txt (deflated 51%)\n",
            "  adding: obj/8cee0e5d984c7358.txt (deflated 27%)\n",
            "  adding: obj/11d2ec06cf6d564e.jpg (deflated 0%)\n",
            "  adding: obj/11d7c873e1fd25c1.txt (deflated 9%)\n",
            "  adding: obj/a63d8eb20c600a01.jpg (deflated 0%)\n",
            "  adding: obj/deef8ccb591fd0de.txt (deflated 60%)\n",
            "  adding: obj/507fc77a3ca70fbe.txt (deflated 28%)\n",
            "  adding: obj/972208ae35faa5c7.jpg (deflated 0%)\n",
            "  adding: obj/acdea94fb4958c96.txt (deflated 41%)\n",
            "  adding: obj/948d33c6efc8d7bc.jpg (deflated 0%)\n",
            "  adding: obj/0145c909cbcc792d.jpg (deflated 0%)\n",
            "  adding: obj/9849379cdfd2a54b.jpg (deflated 0%)\n",
            "  adding: obj/8c4ba3c1aa9d712e.txt (deflated 42%)\n",
            "  adding: obj/2da2afd42fb4d3f3.txt (deflated 29%)\n",
            "  adding: obj/770cc9b6f64a83ee.txt (deflated 24%)\n",
            "  adding: obj/915947b6394b6759.txt (deflated 29%)\n",
            "  adding: obj/8c730fa294996d76.jpg (deflated 0%)\n",
            "  adding: obj/def5440666d0f952.txt (deflated 31%)\n",
            "  adding: obj/027ec7df13f98138.txt (deflated 46%)\n",
            "  adding: obj/cb2ae42a606179c8.jpg (deflated 0%)\n",
            "  adding: obj/8cdd7b3f6eefe549.txt (deflated 16%)\n",
            "  adding: obj/b59bd491687cefea.txt (deflated 51%)\n",
            "  adding: obj/a63d8eb20c600a01.txt (deflated 36%)\n",
            "  adding: obj/8c730fa294996d76.txt (deflated 33%)\n",
            "  adding: obj/01911f2d9b615807.jpg (deflated 1%)\n",
            "  adding: obj/08b777b38502c504.txt (deflated 43%)\n",
            "  adding: obj/6f5097a27b456faf.txt (deflated 28%)\n",
            "  adding: obj/5541f929d45788fc.jpg (deflated 0%)\n",
            "  adding: obj/aa2461e2106dfd45.jpg (deflated 0%)\n",
            "  adding: obj/7bcc7c196d552b9b.jpg (deflated 1%)\n",
            "  adding: obj/f9c7ea49d2294f21.txt (deflated 23%)\n",
            "  adding: obj/e5532fbf051fb05d.jpg (deflated 1%)\n",
            "  adding: obj/11d2ec06cf6d564e.txt (deflated 25%)\n",
            "  adding: obj/d153c340bfe6c8a3.jpg (deflated 0%)\n",
            "  adding: obj/95cf34fd198589e5.txt (deflated 59%)\n",
            "  adding: obj/0acd3b5e892d9813.jpg (deflated 0%)\n",
            "  adding: obj/9849379cdfd2a54b.txt (deflated 30%)\n",
            "  adding: obj/5541f929d45788fc.txt (deflated 38%)\n",
            "  adding: obj/e7cab7c866ccb9b0.jpg (deflated 0%)\n",
            "  adding: obj/842e0bf29c2d2b69.txt (deflated 24%)\n",
            "  adding: obj/d589c39f384f657c.jpg (deflated 0%)\n",
            "  adding: obj/4dabf59d90a88f26.txt (deflated 21%)\n",
            "  adding: obj/15704b447b2e5556.jpg (deflated 0%)\n",
            "  adding: obj/58bae3a4ebe01e17.jpg (deflated 0%)\n",
            "  adding: obj/972208ae35faa5c7.txt (deflated 27%)\n",
            "  adding: obj/03268b0ece04184d.txt (deflated 21%)\n",
            "  adding: obj/04d2aa753f410709.jpg (deflated 0%)\n",
            "  adding: obj/94e96f54aecc9505.jpg (deflated 0%)\n",
            "  adding: obj/9f95a1e2904572b4.txt (deflated 29%)\n",
            "  adding: obj/bd3e0bb5a95e18a6.jpg (deflated 0%)\n",
            "  adding: obj/69f3806648ee0c21.jpg (deflated 0%)\n",
            "  adding: obj/94e96f54aecc9505.txt (deflated 63%)\n",
            "  adding: obj/022346c8fc978e07.jpg (deflated 0%)\n",
            "  adding: obj/c63aafc490c892d9.jpg (deflated 2%)\n",
            "  adding: obj/b174108a87ccc549.jpg (deflated 0%)\n",
            "  adding: obj/e4fdba858e1f7a37.jpg (deflated 0%)\n",
            "  adding: obj/a972e902a9944200.jpg (deflated 0%)\n",
            "  adding: obj/04ba92ddbf968f2e.jpg (deflated 0%)\n",
            "  adding: obj/deef8ccb591fd0de.jpg (deflated 0%)\n",
            "  adding: obj/022346c8fc978e07.txt (deflated 39%)\n",
            "  adding: obj/0d163cbe889f2e1a.jpg (deflated 0%)\n",
            "  adding: obj/a4f5b04cba5f21db.txt (deflated 53%)\n",
            "  adding: obj/9b2d0872f369d0f8.txt (deflated 43%)\n",
            "  adding: obj/a7afdcc0686cbb9c.jpg (deflated 0%)\n",
            "  adding: obj/25da9b8320dcee95.txt (deflated 33%)\n",
            "  adding: obj/002caea797956b9e.txt (deflated 15%)\n",
            "  adding: obj/1326cf71081d6a3f.jpg (deflated 0%)\n",
            "  adding: obj/a008f7851b815836.txt (deflated 30%)\n",
            "  adding: obj/aab3269aad08a29e.jpg (deflated 3%)\n",
            "  adding: obj/1a2c70c460708225.txt (deflated 39%)\n",
            "  adding: obj/01911f2d9b615807.txt (deflated 29%)\n",
            "  adding: obj/1326cf71081d6a3f.txt (deflated 19%)\n",
            "  adding: obj/fef54b533968552d.txt (deflated 35%)\n",
            "  adding: obj/01f8f36db23636a3.jpg (deflated 0%)\n",
            "  adding: obj/5b6ca61e41c63f0d.jpg (deflated 0%)\n",
            "  adding: obj/e7cab7c866ccb9b0.txt (deflated 33%)\n",
            "  adding: obj/08b777b38502c504.jpg (deflated 0%)\n",
            "  adding: obj/1f1a2f423db73947.jpg (deflated 0%)\n",
            "  adding: obj/d153c340bfe6c8a3.txt (deflated 9%)\n",
            "  adding: obj/738c8483835ef3f3.txt (deflated 42%)\n",
            "  adding: obj/34d6feeafdcae6ca.jpg (deflated 0%)\n",
            "  adding: obj/9b2d0872f369d0f8.jpg (deflated 1%)\n",
            "  adding: obj/e4fdba858e1f7a37.txt (deflated 34%)\n",
            "  adding: obj/06f206cdede75980.jpg (deflated 0%)\n",
            "  adding: obj/901c4712f8484f7f.txt (deflated 43%)\n",
            "  adding: obj/7310d05b4d3eabde.txt (deflated 46%)\n",
            "  adding: obj/03eaad3d1db3f984.txt (deflated 37%)\n",
            "  adding: obj/7ede03857983b548.txt (deflated 50%)\n",
            "  adding: obj/5771484210ed0466.jpg (deflated 0%)\n",
            "  adding: obj/3435552b655a8b60.jpg (deflated 2%)\n",
            "  adding: obj/570dce6602a649a4.jpg (deflated 0%)\n",
            "  adding: obj/0ab27bd821b80c53.jpg (deflated 0%)\n",
            "  adding: obj/95cf34fd198589e5.jpg (deflated 0%)\n",
            "  adding: obj/056a9e6143374acb.jpg (deflated 0%)\n",
            "  adding: obj/946ce64947f8825e.jpg (deflated 0%)\n",
            "  adding: obj/7765c35638dfc410.jpg (deflated 0%)\n",
            "  adding: obj/bd8c8415656c815e.jpg (deflated 1%)\n",
            "  adding: obj/5b6ca61e41c63f0d.txt (deflated 21%)\n",
            "  adding: obj/b6e2df67d10bf268.jpg (deflated 0%)\n",
            "  adding: obj/fef54b533968552d.jpg (deflated 0%)\n",
            "  adding: obj/61f5b3b74dc26f8a.jpg (deflated 0%)\n",
            "  adding: obj/b7dc10d8ec8d26ea.jpg (deflated 0%)\n",
            "  adding: obj/b7dc10d8ec8d26ea.txt (deflated 55%)\n",
            "  adding: obj/a25336a4b9c09b09.txt (deflated 31%)\n",
            "  adding: obj/7ac9d57de854eae5.txt (deflated 38%)\n",
            "  adding: obj/009e483fe67bcf00.jpg (deflated 0%)\n",
            "  adding: obj/3d2e0a5a75b17e88.txt (deflated 44%)\n",
            "  adding: obj/eeaa97781d9988ba.jpg (deflated 0%)\n",
            "  adding: obj/cce38885dc2240c8.txt (deflated 44%)\n",
            "  adding: obj/a7afdcc0686cbb9c.txt (deflated 42%)\n",
            "  adding: obj/7ac9d57de854eae5.jpg (deflated 0%)\n",
            "  adding: obj/11e572b8ffed243a.txt (deflated 44%)\n",
            "  adding: obj/93a6b8d80cac53c9.txt (deflated 6%)\n",
            "  adding: obj/6895c78bddfc8025.txt (deflated 35%)\n",
            "  adding: obj/10d1550e523baeac.txt (deflated 37%)\n",
            "  adding: obj/e303127e8ed65134.txt (deflated 55%)\n",
            "  adding: obj/07a756e47f5067ae.jpg (deflated 0%)\n",
            "  adding: obj/8ec259faf2f61e13.txt (deflated 32%)\n",
            "  adding: obj/738c8483835ef3f3.jpg (deflated 0%)\n",
            "  adding: obj/c04c116b4f0781e0.txt (deflated 18%)\n",
            "  adding: obj/212e9af10c3c5c29.txt (deflated 24%)\n",
            "  adding: obj/320d7a2f74c9cf91.jpg (deflated 0%)\n",
            "  adding: obj/33fe59100251b9c0.jpg (deflated 0%)\n",
            "  adding: obj/6d91ba0db3def8c3.txt (deflated 58%)\n",
            "  adding: obj/7bcc7c196d552b9b.txt (deflated 61%)\n",
            "  adding: obj/849e9f74878672a6.jpg (deflated 0%)\n",
            "  adding: obj/a7164c98fb6e7d92.jpg (deflated 0%)\n",
            "  adding: obj/88619184aadceabc.jpg (deflated 0%)\n",
            "  adding: obj/a5942cf4bae9599e.jpg (deflated 0%)\n"
          ]
        }
      ]
    },
    {
      "cell_type": "code",
      "source": [
        "ls"
      ],
      "metadata": {
        "colab": {
          "base_uri": "https://localhost:8080/"
        },
        "id": "pyzK7rpJwWxQ",
        "outputId": "9c421c43-8ba1-43d9-835a-53306f38b94b"
      },
      "execution_count": null,
      "outputs": [
        {
          "output_type": "stream",
          "name": "stdout",
          "text": [
            "\u001b[0m\u001b[01;34mobj\u001b[0m/\n"
          ]
        }
      ]
    },
    {
      "cell_type": "code",
      "source": [
        "cd .."
      ],
      "metadata": {
        "colab": {
          "base_uri": "https://localhost:8080/"
        },
        "id": "vbR1cjFSwaBB",
        "outputId": "988f5f71-7310-4ce9-b54a-730336d8a2c7"
      },
      "execution_count": null,
      "outputs": [
        {
          "output_type": "stream",
          "name": "stdout",
          "text": [
            "/content/OIDv4_ToolKit/OID/Dataset\n"
          ]
        }
      ]
    },
    {
      "cell_type": "code",
      "source": [
        "cd test/"
      ],
      "metadata": {
        "colab": {
          "base_uri": "https://localhost:8080/"
        },
        "id": "i0QlkxvnwdHJ",
        "outputId": "bc34d0e7-71c2-46d5-9407-01c272ea4885"
      },
      "execution_count": null,
      "outputs": [
        {
          "output_type": "stream",
          "name": "stdout",
          "text": [
            "/content/OIDv4_ToolKit/OID/Dataset/test\n"
          ]
        }
      ]
    },
    {
      "cell_type": "code",
      "source": [
        "ls"
      ],
      "metadata": {
        "colab": {
          "base_uri": "https://localhost:8080/"
        },
        "id": "S-3mlTB0wsHX",
        "outputId": "3054bc59-cf66-4bf0-ccb6-a34aa2a0a0e8"
      },
      "execution_count": null,
      "outputs": [
        {
          "output_type": "stream",
          "name": "stdout",
          "text": [
            "\u001b[0m\u001b[01;34mvalid\u001b[0m/\n"
          ]
        }
      ]
    },
    {
      "cell_type": "code",
      "source": [
        "!zip -r ../../../valid.zip valid -x valid/Label/*"
      ],
      "metadata": {
        "colab": {
          "base_uri": "https://localhost:8080/"
        },
        "id": "IJrp5j1pwlfC",
        "outputId": "8cbcd689-997b-4921-ecbd-af562304e8e8"
      },
      "execution_count": null,
      "outputs": [
        {
          "output_type": "stream",
          "name": "stdout",
          "text": [
            "\tzip warning: name not matched: valid\n",
            "\n",
            "zip error: Nothing to do! (../../../valid.zip)\n"
          ]
        }
      ]
    },
    {
      "cell_type": "code",
      "source": [
        "from google.colab import drive\n",
        "drive.mount('/content/gdrive')"
      ],
      "metadata": {
        "colab": {
          "base_uri": "https://localhost:8080/"
        },
        "id": "WyWqv0sOw5qz",
        "outputId": "5a2f2bfc-1aa4-4463-a74d-c10f7cdf9ec6"
      },
      "execution_count": null,
      "outputs": [
        {
          "output_type": "stream",
          "name": "stdout",
          "text": [
            "Drive already mounted at /content/gdrive; to attempt to forcibly remount, call drive.mount(\"/content/gdrive\", force_remount=True).\n"
          ]
        }
      ]
    },
    {
      "cell_type": "code",
      "source": [
        "ls"
      ],
      "metadata": {
        "colab": {
          "base_uri": "https://localhost:8080/"
        },
        "id": "RYx5ziTdxM4R",
        "outputId": "9ad7d5af-ae08-44a0-8c69-ab500d7ac3c6"
      },
      "execution_count": null,
      "outputs": [
        {
          "output_type": "stream",
          "name": "stdout",
          "text": [
            "classes.txt             LICENSE   obj.zip    requirements.txt\n",
            "converter_anotacoes.py  main.py   \u001b[0m\u001b[01;34mOID\u001b[0m/       \u001b[01;34mTreinamentoCustomizadoYOLO\u001b[0m/\n",
            "\u001b[01;34mimages\u001b[0m/                 \u001b[01;34mmodules\u001b[0m/  README.md  valid.zip\n"
          ]
        }
      ]
    },
    {
      "cell_type": "code",
      "source": [
        "cd ../../../"
      ],
      "metadata": {
        "colab": {
          "base_uri": "https://localhost:8080/"
        },
        "id": "r-le0omqxU50",
        "outputId": "f785edb1-f234-41c0-fed2-f4052194e65b"
      },
      "execution_count": null,
      "outputs": [
        {
          "output_type": "stream",
          "name": "stdout",
          "text": [
            "/content/OIDv4_ToolKit\n"
          ]
        }
      ]
    },
    {
      "cell_type": "code",
      "source": [
        "!mkdir -p /content/gdrive/My\\ Drive/TreinamentoCustomizadoYOLO"
      ],
      "metadata": {
        "id": "Jzu3k5QmyP_-"
      },
      "execution_count": null,
      "outputs": []
    },
    {
      "cell_type": "code",
      "source": [
        "!cp .obj.zip /content/gdrive/My\\ Drive/TreinamentoCustomizadoYOLO"
      ],
      "metadata": {
        "colab": {
          "base_uri": "https://localhost:8080/"
        },
        "id": "ZytaRNj1xaYw",
        "outputId": "4a4632fb-f90a-4143-97d3-cd8c7c3cfdb8"
      },
      "execution_count": null,
      "outputs": [
        {
          "output_type": "stream",
          "name": "stdout",
          "text": [
            "cp: cannot stat '.obj.zip': No such file or directory\n"
          ]
        }
      ]
    },
    {
      "cell_type": "code",
      "source": [
        "!cp .valid.zip /content/gdrive/My\\ Drive/TreinamentoCustomizadoYOLO"
      ],
      "metadata": {
        "colab": {
          "base_uri": "https://localhost:8080/"
        },
        "id": "lzyYAboyxkgL",
        "outputId": "3117c134-ef1a-440f-e2c9-5c3da9d1a8b3"
      },
      "execution_count": null,
      "outputs": [
        {
          "output_type": "stream",
          "name": "stdout",
          "text": [
            "cp: cannot stat '.valid.zip': No such file or directory\n"
          ]
        }
      ]
    },
    {
      "cell_type": "code",
      "source": [
        "pwd"
      ],
      "metadata": {
        "colab": {
          "base_uri": "https://localhost:8080/",
          "height": 35
        },
        "id": "UEle4chkx62t",
        "outputId": "1f36a6fd-abf2-41e9-ecd0-e25c70731f24"
      },
      "execution_count": null,
      "outputs": [
        {
          "output_type": "execute_result",
          "data": {
            "text/plain": [
              "'/content/OIDv4_ToolKit'"
            ],
            "application/vnd.google.colaboratory.intrinsic+json": {
              "type": "string"
            }
          },
          "metadata": {},
          "execution_count": 32
        }
      ]
    },
    {
      "cell_type": "code",
      "source": [
        "ls"
      ],
      "metadata": {
        "colab": {
          "base_uri": "https://localhost:8080/"
        },
        "id": "TBNB8pGuyqvA",
        "outputId": "b42d7940-8851-4484-a385-ad3f699014cd"
      },
      "execution_count": null,
      "outputs": [
        {
          "output_type": "stream",
          "name": "stdout",
          "text": [
            "classes.txt             LICENSE   obj.zip    requirements.txt\n",
            "converter_anotacoes.py  main.py   \u001b[0m\u001b[01;34mOID\u001b[0m/       \u001b[01;34mTreinamentoCustomizadoYOLO\u001b[0m/\n",
            "\u001b[01;34mimages\u001b[0m/                 \u001b[01;34mmodules\u001b[0m/  README.md  valid.zip\n"
          ]
        }
      ]
    }
  ]
}