{
  "nbformat": 4,
  "nbformat_minor": 0,
  "metadata": {
    "colab": {
      "provenance": [],
      "include_colab_link": true
    },
    "kernelspec": {
      "name": "python3",
      "display_name": "Python 3"
    },
    "language_info": {
      "name": "python"
    }
  },
  "cells": [
    {
      "cell_type": "markdown",
      "metadata": {
        "id": "view-in-github",
        "colab_type": "text"
      },
      "source": [
        "<a href=\"https://colab.research.google.com/github/Gustavo070805/Open_Weather/blob/main/O_vendedor_de_Pirozhki.ipynb\" target=\"_parent\"><img src=\"https://colab.research.google.com/assets/colab-badge.svg\" alt=\"Open In Colab\"/></a>"
      ]
    },
    {
      "cell_type": "markdown",
      "source": [
        "# CASE: O vendedor de Pirozhki\n",
        "\n",
        "\n",
        "Vladimir Sidorov desistiu de seu trabalho convencional na KGB e decidiu empreender em 2010 no ramo alimentício. Com suas economias abriu um foodtruck no bairro do Ipiranga – SP especializado na venda de Pirozhki, onde seu grande diferencial era trabalhar com ingredientes importados dando uma qualidade extraordinária ao produto. Após o crescimento das vendas, a modalidade delivery foi implementada para auxiliar a empresa. Vladimir era extremamente popular no bairro, todos o conheciam, mas em 2019 se mudou para um ponto melhor e não tivemos mais notícia. Os últimos dados compartilhados das vendas de Vlad foram disponibilizados antes de sua partida.\n"
      ],
      "metadata": {
        "id": "HXZSC_Ob3Zrd"
      }
    },
    {
      "cell_type": "markdown",
      "source": [
        "\n",
        "\n",
        "1.   Dado o problema acima, qual o melhor algoritmo para descobrir os dados de 2015?\n",
        "2.   Qual coeficiente angular?\n",
        "3.   Considerando uma perspectiva estatística, qual o total de venda em 2020 (Apresentar valores)?\n",
        "4. Considerando uma perspectiva estatística, qual o total de venda em 2021 (Apresentar valores)?\n",
        "5. Desenvolva um código em python que calcule estatisticamente as vendas em qualquer ano desejado\n",
        "6. Considerando sua opinião, qual o total de venda em 2021?\n",
        "7. Considerando sua opinião, qual o total de venda em 2023?\n",
        "\n"
      ],
      "metadata": {
        "id": "jmbpy-k73f90"
      }
    },
    {
      "cell_type": "code",
      "source": [
        "# 1.\n",
        "ano_2010=723\n",
        "ano_2011=814\n",
        "ano_2012=905\n",
        "ano_2014=1087\n",
        "ano_2017=1360\n",
        "ano_2018=1451\n",
        "ano_2019=1542\n",
        "\n",
        "ano_2015=ano_2014+(2015-2014) * 91\n",
        "print(ano_2015)"
      ],
      "metadata": {
        "colab": {
          "base_uri": "https://localhost:8080/"
        },
        "id": "8TPW1iI69ko2",
        "outputId": "a44be998-156c-430d-f252-e46336e659da"
      },
      "execution_count": 19,
      "outputs": [
        {
          "output_type": "stream",
          "name": "stdout",
          "text": [
            "1178\n"
          ]
        }
      ]
    },
    {
      "cell_type": "code",
      "source": [
        "#2\n",
        "ano_2014 = 1087\n",
        "ano_2012 = 905\n",
        "# Anos correspondentes\n",
        "ano_inicio = 2012\n",
        "ano_fim = 2014\n",
        "# Cálculo do coeficiente angular\n",
        "coeficiente_angular = (ano_2014 - ano_2012) / (ano_fim - ano_inicio)\n",
        "print(\"Coeficiente Angular:\", coeficiente_angular)"
      ],
      "metadata": {
        "colab": {
          "base_uri": "https://localhost:8080/"
        },
        "id": "uW84zW7c_kkC",
        "outputId": "1d3ecb1b-20db-4f45-f124-4ea6ee5f3439"
      },
      "execution_count": 20,
      "outputs": [
        {
          "output_type": "stream",
          "name": "stdout",
          "text": [
            "Coeficiente Angular: 91.0\n"
          ]
        }
      ]
    },
    {
      "cell_type": "code",
      "source": [
        "# 3\n",
        "ano_2020=ano_2019+(2020-2019) * 91\n",
        "print(ano_2020)"
      ],
      "metadata": {
        "colab": {
          "base_uri": "https://localhost:8080/"
        },
        "id": "d_5z_2fkBRcD",
        "outputId": "bc237225-3b0c-47cf-b7eb-96f8025f7ba3"
      },
      "execution_count": 21,
      "outputs": [
        {
          "metadata": {
            "tags": null
          },
          "name": "stdout",
          "output_type": "stream",
          "text": [
            "1633\n"
          ]
        }
      ]
    },
    {
      "cell_type": "code",
      "source": [
        "# 4\n",
        "ano_2021=ano_2019+(2021-2019) * 91\n",
        "print(ano_2021)"
      ],
      "metadata": {
        "colab": {
          "base_uri": "https://localhost:8080/"
        },
        "id": "EhUqgAyVBl-U",
        "outputId": "a3e20ae2-fa18-466d-e0ca-fac9c91d94eb"
      },
      "execution_count": 22,
      "outputs": [
        {
          "metadata": {
            "tags": null
          },
          "name": "stdout",
          "output_type": "stream",
          "text": [
            "1724\n"
          ]
        }
      ]
    },
    {
      "cell_type": "code",
      "source": [
        "# 5\n",
        "escolha_ano = int(input(\"Escolha o ano: \"))\n",
        "vendas=ano_2019+(escolha_ano - 2019) * 91\n",
        "print(vendas)"
      ],
      "metadata": {
        "colab": {
          "base_uri": "https://localhost:8080/"
        },
        "id": "jW7Wwr9I-epz",
        "outputId": "75a5e99b-2ea3-4d6f-aab3-57a62aff5ae6"
      },
      "execution_count": 26,
      "outputs": [
        {
          "output_type": "stream",
          "name": "stdout",
          "text": [
            "Escolha o ano: 2023\n",
            "1906\n"
          ]
        }
      ]
    },
    {
      "cell_type": "markdown",
      "source": [
        "# 6 e 7\n",
        "Percebemos que a diferença de vendas entre os anos são de 91 então fizemos um raciocínio logico, fizemos o ano pedido - o ultimo ano que temos registrado e multiplicamos por 91 e somamos com o total do ultimo ano registrado.\n",
        "\n",
        "2021 = 1724\n",
        "\n",
        "2023 = 1906"
      ],
      "metadata": {
        "id": "JjLkBhrrB9H1"
      }
    },
    {
      "cell_type": "markdown",
      "source": [
        "\n",
        "\n",
        "*   Nome:  Gustavo Candile\n",
        "*   RM: 98852\n",
        "*   Nome:  Vitor Tavares\n",
        "*   RM: 99079\n",
        "\n",
        "\n"
      ],
      "metadata": {
        "id": "Wi9_DVhq34pT"
      }
    }
  ]
}